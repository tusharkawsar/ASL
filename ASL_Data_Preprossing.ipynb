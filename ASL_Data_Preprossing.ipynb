{
 "cells": [
  {
   "cell_type": "code",
   "execution_count": 3,
   "metadata": {
    "collapsed": true
   },
   "outputs": [],
   "source": [
    "from __future__ import print_function,division,absolute_import\n",
    "import numpy as np\n",
    "np.random.seed(1337)\n",
    "\n",
    "from matplotlib import pyplot as plt\n",
    "%matplotlib inline\n",
    "\n",
    "from os import listdir\n",
    "from PIL import Image as img\n",
    "from PIL import ImageOps as ops\n",
    "from os.path import isfile, join"
   ]
  },
  {
   "cell_type": "code",
   "execution_count": 4,
   "metadata": {
    "collapsed": true
   },
   "outputs": [],
   "source": [
    "train_dir = 'Train'\n",
    "test_dir = 'Test'"
   ]
  },
  {
   "cell_type": "code",
   "execution_count": 7,
   "metadata": {
    "collapsed": true
   },
   "outputs": [],
   "source": [
    "# Main data parser from BMP files\n",
    "def dataProcess(dirname,class_num):\n",
    "    Names = []\n",
    "    for filename in listdir(dirname):\n",
    "        if(filename.endswith('.png') or filename.endswith('.jpg')):\n",
    "            Names.append(dirname+'/'+filename)\n",
    "    Names.sort()\n",
    "    X = np.array([np.array(((img.open((name)).convert('L')).resize((100,100),img.ANTIALIAS))) for name in Names]).astype('float32')\n",
    "    Y = np.full((X.shape[0],),class_num,dtype='float32')\n",
    "    return X,Y"
   ]
  },
  {
   "cell_type": "code",
   "execution_count": 8,
   "metadata": {},
   "outputs": [
    {
     "name": "stdout",
     "output_type": "stream",
     "text": [
      "['0', '1', '2', '3', '4', '5', '6', '7', '8', '9']\n"
     ]
    }
   ],
   "source": [
    "lst = listdir(test_dir)\n",
    "lst.sort()\n",
    "print(lst)"
   ]
  },
  {
   "cell_type": "code",
   "execution_count": 13,
   "metadata": {},
   "outputs": [
    {
     "name": "stdout",
     "output_type": "stream",
     "text": [
      "(20, 100, 100) (20,) Test/0\n",
      "(20, 100, 100) (20,) Test/1\n",
      "(20, 100, 100) (20,) Test/2\n",
      "(20, 100, 100) (20,) Test/3\n",
      "(20, 100, 100) (20,) Test/4\n",
      "(20, 100, 100) (20,) Test/5\n",
      "(20, 100, 100) (20,) Test/6\n",
      "(20, 100, 100) (20,) Test/7\n",
      "(20, 100, 100) (20,) Test/8\n",
      "(20, 100, 100) (20,) Test/9\n",
      "(201, 100, 100) (201,)\n"
     ]
    }
   ],
   "source": [
    "datX,datY = np.zeros((1,100,100),dtype='float32'),np.zeros((1,),dtype='float32')\n",
    "\n",
    "for dir_x in lst:\n",
    "    X,Y = dataProcess(str(test_dir+'/'+dir_x),int(dir_x))\n",
    "    print(X.shape,Y.shape,str(test_dir+'/'+dir_x))\n",
    "    datX = np.append(datX,X,axis=0)\n",
    "    datY = np.append(datY,Y,axis=0)\n",
    "print(datX.shape,datY.shape)"
   ]
  },
  {
   "cell_type": "code",
   "execution_count": 14,
   "metadata": {},
   "outputs": [
    {
     "name": "stdout",
     "output_type": "stream",
     "text": [
      "(200, 100, 100) (200,)\n"
     ]
    }
   ],
   "source": [
    "datX = datX[1:,:,:]\n",
    "datY = datY[1:]\n",
    "print(datX.shape,datY.shape)"
   ]
  },
  {
   "cell_type": "code",
   "execution_count": 15,
   "metadata": {
    "collapsed": true
   },
   "outputs": [],
   "source": [
    "np.savez_compressed('ASL_Test.npz',datX,datY)"
   ]
  },
  {
   "cell_type": "code",
   "execution_count": 16,
   "metadata": {},
   "outputs": [
    {
     "name": "stdout",
     "output_type": "stream",
     "text": [
      "[[ 0.  0.  0. ...,  0.  0.  0.]\n",
      " [ 0.  0.  0. ...,  0.  0.  0.]\n",
      " [ 0.  0.  0. ...,  0.  0.  0.]\n",
      " ..., \n",
      " [ 0.  0.  0. ...,  0.  0.  0.]\n",
      " [ 0.  0.  0. ...,  0.  0.  0.]\n",
      " [ 0.  0.  0. ...,  0.  0.  0.]]\n"
     ]
    },
    {
     "data": {
      "text/plain": [
       "<matplotlib.image.AxesImage at 0x7ff668754eb8>"
      ]
     },
     "execution_count": 16,
     "metadata": {},
     "output_type": "execute_result"
    },
    {
     "data": {
      "image/png": "[encoded data removed]",
      "text/plain": [
       "<matplotlib.figure.Figure at 0x7ff66667b0f0>"
      ]
     },
     "metadata": {},
     "output_type": "display_data"
    }
   ],
   "source": [
    "x = datX[30,:,:]\n",
    "x = x/255\n",
    "print(x)\n",
    "\n",
    "plt.imshow(x,cmap='gray')"
   ]
  },
  {
   "cell_type": "code",
   "execution_count": 13,
   "metadata": {},
   "outputs": [
    {
     "data": {
      "text/plain": [
       "(274, 250, 3)"
      ]
     },
     "execution_count": 13,
     "metadata": {},
     "output_type": "execute_result"
    }
   ],
   "source": [
    "x = load_img('colorImage/train/0/zero_1.jpg')\n",
    "x_ = np.asanyarray(x)\n",
    "x_.shape"
   ]
  },
  {
   "cell_type": "code",
   "execution_count": 15,
   "metadata": {},
   "outputs": [
    {
     "ename": "SyntaxError",
     "evalue": "invalid syntax (<ipython-input-15-6b7fc9003306>, line 1)",
     "output_type": "error",
     "traceback": [
      "\u001b[0;36m  File \u001b[0;32m\"<ipython-input-15-6b7fc9003306>\"\u001b[0;36m, line \u001b[0;32m1\u001b[0m\n\u001b[0;31m    int(/0)\u001b[0m\n\u001b[0m        ^\u001b[0m\n\u001b[0;31mSyntaxError\u001b[0m\u001b[0;31m:\u001b[0m invalid syntax\n"
     ]
    }
   ],
   "source": [
    "int(/0)"
   ]
  },
  {
   "cell_type": "code",
   "execution_count": null,
   "metadata": {
    "collapsed": true
   },
   "outputs": [],
   "source": []
  }
 ],
 "metadata": {
  "kernelspec": {
   "display_name": "Python 3",
   "language": "python",
   "name": "python3"
  },
  "language_info": {
   "codemirror_mode": {
    "name": "ipython",
    "version": 3
   },
   "file_extension": ".py",
   "mimetype": "text/x-python",
   "name": "python",
   "nbconvert_exporter": "python",
   "pygments_lexer": "ipython3",
   "version": "3.7.5"
  }
 },
 "nbformat": 4,
 "nbformat_minor": 2
}
